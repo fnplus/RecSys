{
 "cells": [
  {
   "cell_type": "code",
   "execution_count": 1,
   "metadata": {},
   "outputs": [],
   "source": [
    "import os\n",
    "import csv\n",
    "import sys\n",
    "import re\n",
    "\n",
    "from surprise import Dataset\n",
    "from surprise import Reader\n",
    "\n",
    "from collections import defaultdict\n",
    "import numpy as np\n",
    "\n",
    "class MovieLens:\n",
    "\n",
    "    movieID_to_name = {}\n",
    "    name_to_movieID = {}\n",
    "    ratingsPath = '../ml-latest-small/ratings.csv'\n",
    "    moviesPath = '../ml-latest-small/movies.csv'\n",
    "    \n",
    "    def loadMovieLensLatestSmall(self):\n",
    "\n",
    "        # Look for files relative to the directory we are running from\n",
    "        #os.chdir(os.path.dirname(sys.argv[0]))\n",
    "\n",
    "        ratingsDataset = 0\n",
    "        self.movieID_to_name = {}\n",
    "        self.name_to_movieID = {}\n",
    "\n",
    "        reader = Reader(line_format='user item rating timestamp', sep=',', skip_lines=1)\n",
    "\n",
    "        ratingsDataset = Dataset.load_from_file(self.ratingsPath, reader=reader)\n",
    "\n",
    "        with open(self.moviesPath, newline='', encoding='ISO-8859-1') as csvfile:\n",
    "                movieReader = csv.reader(csvfile)\n",
    "                next(movieReader)  #Skip header line\n",
    "                for row in movieReader:\n",
    "                    movieID = int(row[0])\n",
    "                    movieName = row[1]\n",
    "                    self.movieID_to_name[movieID] = movieName\n",
    "                    self.name_to_movieID[movieName] = movieID\n",
    "\n",
    "        return ratingsDataset\n",
    "\n",
    "    def getUserRatings(self, user):\n",
    "        userRatings = []\n",
    "        hitUser = False\n",
    "        with open(self.ratingsPath, newline='') as csvfile:\n",
    "            ratingReader = csv.reader(csvfile)\n",
    "            next(ratingReader)\n",
    "            for row in ratingReader:\n",
    "                userID = int(row[0])\n",
    "                if (user == userID):\n",
    "                    movieID = int(row[1])\n",
    "                    rating = float(row[2])\n",
    "                    userRatings.append((movieID, rating))\n",
    "                    hitUser = True\n",
    "                if (hitUser and (user != userID)):\n",
    "                    break\n",
    "\n",
    "        return userRatings\n",
    "\n",
    "    def getPopularityRanks(self):\n",
    "        ratings = defaultdict(int)\n",
    "        rankings = defaultdict(int)\n",
    "        with open(self.ratingsPath, newline='') as csvfile:\n",
    "            ratingReader = csv.reader(csvfile)\n",
    "            next(ratingReader)\n",
    "            for row in ratingReader:\n",
    "                movieID = int(row[1])\n",
    "                ratings[movieID] += 1\n",
    "        rank = 1\n",
    "        for movieID, ratingCount in sorted(ratings.items(), key=lambda x: x[1], reverse=True):\n",
    "            rankings[movieID] = rank\n",
    "            rank += 1\n",
    "        return rankings\n",
    "    \n",
    "    def getGenres(self):\n",
    "        genres = defaultdict(list)\n",
    "        genreIDs = {}\n",
    "        maxGenreID = 0\n",
    "        with open(self.moviesPath, newline='', encoding='ISO-8859-1') as csvfile:\n",
    "            movieReader = csv.reader(csvfile)\n",
    "            next(movieReader)  #Skip header line\n",
    "            for row in movieReader:\n",
    "                movieID = int(row[0])\n",
    "                genreList = row[2].split('|')\n",
    "                genreIDList = []\n",
    "                for genre in genreList:\n",
    "                    if genre in genreIDs:\n",
    "                        genreID = genreIDs[genre]\n",
    "                    else:\n",
    "                        genreID = maxGenreID\n",
    "                        genreIDs[genre] = genreID\n",
    "                        maxGenreID += 1\n",
    "                    genreIDList.append(genreID)\n",
    "                genres[movieID] = genreIDList\n",
    "        # Convert integer-encoded genre lists to bitfields that we can treat as vectors\n",
    "        for (movieID, genreIDList) in genres.items():\n",
    "            bitfield = [0] * maxGenreID\n",
    "            for genreID in genreIDList:\n",
    "                bitfield[genreID] = 1\n",
    "            genres[movieID] = bitfield            \n",
    "        \n",
    "        return genres\n",
    "    \n",
    "    def getYears(self):\n",
    "        p = re.compile(r\"(?:\\((\\d{4})\\))?\\s*$\")\n",
    "        years = defaultdict(int)\n",
    "        with open(self.moviesPath, newline='', encoding='ISO-8859-1') as csvfile:\n",
    "            movieReader = csv.reader(csvfile)\n",
    "            next(movieReader)\n",
    "            for row in movieReader:\n",
    "                movieID = int(row[0])\n",
    "                title = row[1]\n",
    "                m = p.search(title)\n",
    "                year = m.group(1)\n",
    "                if year:\n",
    "                    years[movieID] = int(year)\n",
    "        return years\n",
    "    \n",
    "    def getMiseEnScene(self):\n",
    "        mes = defaultdict(list)\n",
    "        with open(\"LLVisualFeatures13K_Log.csv\", newline='') as csvfile:\n",
    "            mesReader = csv.reader(csvfile)\n",
    "            next(mesReader)\n",
    "            for row in mesReader:\n",
    "                movieID = int(row[0])\n",
    "                avgShotLength = float(row[1])\n",
    "                meanColorVariance = float(row[2])\n",
    "                stddevColorVariance = float(row[3])\n",
    "                meanMotion = float(row[4])\n",
    "                stddevMotion = float(row[5])\n",
    "                meanLightingKey = float(row[6])\n",
    "                numShots = float(row[7])\n",
    "                mes[movieID] = [avgShotLength, meanColorVariance, stddevColorVariance,\n",
    "                   meanMotion, stddevMotion, meanLightingKey, numShots]\n",
    "        return mes\n",
    "    \n",
    "    def getMovieName(self, movieID):\n",
    "        if movieID in self.movieID_to_name:\n",
    "            return self.movieID_to_name[movieID]\n",
    "        else:\n",
    "            return \"\"\n",
    "        \n",
    "    def getMovieID(self, movieName):\n",
    "        if movieName in self.name_to_movieID:\n",
    "            return self.name_to_movieID[movieName]\n",
    "        else:\n",
    "            return 0"
   ]
  },
  {
   "cell_type": "code",
   "execution_count": 10,
   "metadata": {},
   "outputs": [],
   "source": []
  },
  {
   "cell_type": "code",
   "execution_count": 3,
   "metadata": {},
   "outputs": [],
   "source": []
  },
  {
   "cell_type": "code",
   "execution_count": null,
   "metadata": {},
   "outputs": [],
   "source": []
  },
  {
   "cell_type": "code",
   "execution_count": null,
   "metadata": {},
   "outputs": [],
   "source": []
  },
  {
   "cell_type": "code",
   "execution_count": 2,
   "metadata": {},
   "outputs": [],
   "source": [
    "ml = MovieLens()"
   ]
  },
  {
   "cell_type": "code",
   "execution_count": 6,
   "metadata": {},
   "outputs": [],
   "source": [
    "i = ml.loadMovieLensLatestSmall()"
   ]
  },
  {
   "cell_type": "code",
   "execution_count": 7,
   "metadata": {},
   "outputs": [
    {
     "ename": "ModuleNotFoundError",
     "evalue": "No module named 'pandas'",
     "output_type": "error",
     "traceback": [
      "\u001b[1;31m---------------------------------------------------------------------------\u001b[0m",
      "\u001b[1;31mModuleNotFoundError\u001b[0m                       Traceback (most recent call last)",
      "\u001b[1;32m<ipython-input-7-59ab05e21164>\u001b[0m in \u001b[0;36m<module>\u001b[1;34m\u001b[0m\n\u001b[0;32m      1\u001b[0m \u001b[1;32mimport\u001b[0m \u001b[0mnumpy\u001b[0m \u001b[1;32mas\u001b[0m \u001b[0mnp\u001b[0m\u001b[1;33m\u001b[0m\u001b[1;33m\u001b[0m\u001b[0m\n\u001b[1;32m----> 2\u001b[1;33m \u001b[1;32mimport\u001b[0m \u001b[0mpandas\u001b[0m \u001b[1;32mas\u001b[0m \u001b[0mpd\u001b[0m\u001b[1;33m\u001b[0m\u001b[1;33m\u001b[0m\u001b[0m\n\u001b[0m",
      "\u001b[1;31mModuleNotFoundError\u001b[0m: No module named 'pandas'"
     ]
    }
   ],
   "source": [
    "import numpy as np\n",
    "import pandas as pd"
   ]
  },
  {
   "cell_type": "code",
   "execution_count": 8,
   "metadata": {},
   "outputs": [
    {
     "name": "stdout",
     "output_type": "stream",
     "text": [
      "<surprise.dataset.DatasetAutoFolds object at 0x000001A45F3627B8>\n"
     ]
    }
   ],
   "source": [
    "print(i)"
   ]
  },
  {
   "cell_type": "code",
   "execution_count": null,
   "metadata": {},
   "outputs": [],
   "source": []
  }
 ],
 "metadata": {
  "kernelspec": {
   "display_name": "Python 3",
   "language": "python",
   "name": "python3"
  },
  "language_info": {
   "codemirror_mode": {
    "name": "ipython",
    "version": 3
   },
   "file_extension": ".py",
   "mimetype": "text/x-python",
   "name": "python",
   "nbconvert_exporter": "python",
   "pygments_lexer": "ipython3",
   "version": "3.6.8"
  }
 },
 "nbformat": 4,
 "nbformat_minor": 2
}
